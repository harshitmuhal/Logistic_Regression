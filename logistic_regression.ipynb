{
 "cells": [
  {
   "cell_type": "code",
   "execution_count": 1,
   "metadata": {},
   "outputs": [],
   "source": [
    "from sklearn.datasets import load_breast_cancer\n",
    "from sklearn.model_selection import train_test_split\n",
    "from sklearn.metrics import confusion_matrix\n",
    "import numpy as np\n",
    "import pandas as pd\n",
    "import matplotlib.pyplot as plt\n",
    "import seaborn as sns"
   ]
  },
  {
   "cell_type": "code",
   "execution_count": 50,
   "metadata": {},
   "outputs": [],
   "source": [
    "def hypothesis(w,x_train,b):\n",
    "    z=np.dot(x_train,w)+b\n",
    "    #this dot product between values in dataframe and a vector will return a vector(print value to realise\n",
    "    #however when you do inner product between a vector and dataframe it'll return datafrane)\n",
    "    #very imp = np.dot(w,x_train will give error because for matrix multiplication column of first \n",
    "    #matrix = row of second matrix and if row of first matrix  = column of second matrix then it will throw error)\n",
    "    hx=1/(1+np.exp(-z))\n",
    "    return hx\n",
    "\n",
    "def derivative(w,x_train,b,y_train,m_train):\n",
    "    #dw,db represents derivative of cost function with respect to w,b respectively\n",
    "    hx=hypothesis(w,x_train,b)\n",
    "    dw=(np.dot(x_train.T,hx - y_train))/m_train\n",
    "    db=np.sum(hx - y_train)/m_train\n",
    "    return [dw,db]\n",
    "\n",
    "def cost_func(y_train,x_train,w,b,m_train):\n",
    "    hx = hypothesis(w,x_train,b) \n",
    "    cost=(-1)*((y_train*np.log(hx) + (1-y_train)*np.log(1-hx)).mean())\n",
    "    #when you are getiing NaN values after more iterations decrease the value of learning rate\n",
    "    return cost/m_train\n",
    "\n",
    "def gradient_descent(x_train,y_train,w,b,m_train):\n",
    "    learning_rate=0.1\n",
    "    cost_fun_value = cost_func(y_train,x_train,w,b,m_train)\n",
    "    dw,db=derivative(w,x_train,b,y_train,m_train)\n",
    "    w-=learning_rate*dw\n",
    "    b-=learning_rate*db\n",
    "    return [cost_fun_value,w,b]   \n",
    "\n",
    "def predict(x_test,w,b,threshold=0.5):\n",
    "    hx=hypothesis(w,x_test,b)\n",
    "    final=(hx>= threshold)\n",
    "    return (final)"
   ]
  },
  {
   "cell_type": "code",
   "execution_count": 9,
   "metadata": {},
   "outputs": [],
   "source": [
    "df=pd.read_csv('D:/data.csv')"
   ]
  },
  {
   "cell_type": "code",
   "execution_count": 10,
   "metadata": {},
   "outputs": [
    {
     "name": "stdout",
     "output_type": "stream",
     "text": [
      "X1    0\n",
      "X2    0\n",
      "Y     0\n",
      "dtype: int64\n"
     ]
    }
   ],
   "source": [
    "#to check if data has null values\n",
    "print(df.isnull().sum())"
   ]
  },
  {
   "cell_type": "code",
   "execution_count": 37,
   "metadata": {},
   "outputs": [],
   "source": [
    "x=df[df.columns[0:-1]]\n",
    "y=df.iloc[:,-1].values"
   ]
  },
  {
   "cell_type": "code",
   "execution_count": 46,
   "metadata": {},
   "outputs": [],
   "source": [
    "x_train, x_test, y_train, y_test = train_test_split(x, y, test_size=0.3,random_state=0)\n",
    "m_train = x_train.shape[0]\n",
    "m_test = x_test.shape[0]\n",
    "y_train=y_train.reshape((y_train.shape[0],1))\n",
    "y_test=y_test.reshape((y_test.shape[0],1))\n",
    "#this is a very very important step. without this step you will never get correct output because y_train is \n",
    "#a rank 1 array"
   ]
  },
  {
   "cell_type": "code",
   "execution_count": 47,
   "metadata": {},
   "outputs": [],
   "source": [
    "#random initialisation of parameters\n",
    "#initialising weight vector\n",
    "w=np.random.random((2,1))\n",
    "#initialising base\n",
    "b=np.random.random()"
   ]
  },
  {
   "cell_type": "code",
   "execution_count": 51,
   "metadata": {},
   "outputs": [],
   "source": [
    "loss = []\n",
    "for i in range(200):\n",
    "    cost_fun_value,w,b=gradient_descent(x_train,y_train,w,b,m_train)\n",
    "    loss.append(cost_fun_value)"
   ]
  },
  {
   "cell_type": "code",
   "execution_count": 52,
   "metadata": {},
   "outputs": [
    {
     "data": {
      "image/png": "[encoded data removed]",
      "text/plain": [
       "<Figure size 432x288 with 1 Axes>"
      ]
     },
     "metadata": {
      "needs_background": "light"
     },
     "output_type": "display_data"
    }
   ],
   "source": [
    "plt.plot(loss)\n",
    "plt.show()"
   ]
  },
  {
   "cell_type": "code",
   "execution_count": 53,
   "metadata": {},
   "outputs": [
    {
     "name": "stdout",
     "output_type": "stream",
     "text": [
      "[[2 0]\n",
      " [0 1]]\n",
      "ACCURACY : 1.0\n"
     ]
    }
   ],
   "source": [
    "y_pred=predict(x_test,w,b,threshold=0.5)\n",
    "cm=confusion_matrix(y_test,y_pred)\n",
    "print(cm)\n",
    "print(\"ACCURACY :\",((cm[0][0]+cm[1][1])/np.sum(cm)) )"
   ]
  }
 ],
 "metadata": {
  "kernelspec": {
   "display_name": "Python 3",
   "language": "python",
   "name": "python3"
  },
  "language_info": {
   "codemirror_mode": {
    "name": "ipython",
    "version": 3
   },
   "file_extension": ".py",
   "mimetype": "text/x-python",
   "name": "python",
   "nbconvert_exporter": "python",
   "pygments_lexer": "ipython3",
   "version": "3.7.1"
  }
 },
 "nbformat": 4,
 "nbformat_minor": 2
}
